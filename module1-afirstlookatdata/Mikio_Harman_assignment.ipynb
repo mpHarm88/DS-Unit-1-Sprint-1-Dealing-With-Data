{
 "cells": [
  {
   "cell_type": "code",
   "execution_count": 1,
   "metadata": {},
   "outputs": [],
   "source": [
    "import pandas as pd # manipulate data\n",
    "import seaborn as sns # load dataset\n",
    "import numpy as np # turning lists into arrays\n",
    "import matplotlib.pyplot as plt\n",
    "\n",
    "from sklearn.model_selection import train_test_split # data splitting\n",
    "from sklearn.preprocessing import MinMaxScaler # normalization\n",
    "from sklearn.impute import SimpleImputer # fill NaN values\n",
    "from sklearn.pipeline import make_pipeline # creating a pipeline\n",
    "\n",
    "from category_encoders import OneHotEncoder # creating features\n",
    "\n",
    "from tensorflow import keras # for the neural network\n",
    "from tensorflow.keras.models import Sequential # the model\n",
    "from tensorflow.keras.layers import Dense, Dropout # layers for nerual network"
   ]
  },
  {
   "cell_type": "code",
   "execution_count": 2,
   "metadata": {},
   "outputs": [
    {
     "name": "stdout",
     "output_type": "stream",
     "text": [
      "         survived      pclass         age       sibsp       parch        fare\n",
      "count  891.000000  891.000000  714.000000  891.000000  891.000000  891.000000\n",
      "mean     0.383838    2.308642   29.699118    0.523008    0.381594   32.204208\n",
      "std      0.486592    0.836071   14.526497    1.102743    0.806057   49.693429\n",
      "min      0.000000    1.000000    0.420000    0.000000    0.000000    0.000000\n",
      "25%      0.000000    2.000000   20.125000    0.000000    0.000000    7.910400\n",
      "50%      0.000000    3.000000   28.000000    0.000000    0.000000   14.454200\n",
      "75%      1.000000    3.000000   38.000000    1.000000    0.000000   31.000000\n",
      "max      1.000000    3.000000   80.000000    8.000000    6.000000  512.329200 \n",
      "\n",
      "         sex embarked  class  who adult_male deck  embark_town alive alone\n",
      "count    891      889    891  891        891  203          889   891   891\n",
      "unique     2        3      3    3          2    7            3     2     2\n",
      "top     male        S  Third  man       True    C  Southampton    no  True\n",
      "freq     577      644    491  537        537   59          644   549   537 \n",
      "\n",
      "survived         0\n",
      "pclass           0\n",
      "sex              0\n",
      "age            177\n",
      "sibsp            0\n",
      "parch            0\n",
      "fare             0\n",
      "embarked         2\n",
      "class            0\n",
      "who              0\n",
      "adult_male       0\n",
      "deck           688\n",
      "embark_town      2\n",
      "alive            0\n",
      "alone            0\n",
      "dtype: int64\n"
     ]
    }
   ],
   "source": [
    "df = sns.load_dataset(\"titanic\")\n",
    "print(f\"\"\"{df.describe()} \n",
    "\n",
    "{df.describe(exclude=\"number\")} \n",
    "\n",
    "{df.isnull().sum()}\"\"\")"
   ]
  },
  {
   "cell_type": "code",
   "execution_count": 3,
   "metadata": {},
   "outputs": [],
   "source": [
    "# drop uneeded columns\n",
    "df = df.drop(['alive', 'adult_male', 'who', 'deck'], axis=1)"
   ]
  },
  {
   "cell_type": "code",
   "execution_count": 4,
   "metadata": {},
   "outputs": [],
   "source": [
    "# pipe\n",
    "pipe = make_pipeline(\n",
    "    OneHotEncoder(),\n",
    "    SimpleImputer(strategy=\"median\"),\n",
    "    MinMaxScaler()\n",
    ")"
   ]
  },
  {
   "cell_type": "code",
   "execution_count": 5,
   "metadata": {},
   "outputs": [
    {
     "name": "stdout",
     "output_type": "stream",
     "text": [
      "X shape: (891, 10)\n",
      "y shape: (891,)\n",
      "X_train shape: (668, 10)\n",
      "y_train shape: (668,)\n",
      "X_test shape: (223, 10)\n",
      "y_test shape: (223,)\n"
     ]
    }
   ],
   "source": [
    "# split features and targets\n",
    "target = 'survived'\n",
    "X = df.drop(target, axis=1)\n",
    "y = df[target]\n",
    "print(f\"X shape: {X.shape}\\ny shape: {y.shape}\")\n",
    "\n",
    "# split\n",
    "X_train, X_test, y_train, y_test = train_test_split(X,y, stratify=y, random_state=42)\n",
    "print(f\"\"\"X_train shape: {X_train.shape}\n",
    "y_train shape: {y_train.shape}\n",
    "X_test shape: {X_test.shape}\n",
    "y_test shape: {y_test.shape}\"\"\")"
   ]
  },
  {
   "cell_type": "code",
   "execution_count": 6,
   "metadata": {},
   "outputs": [
    {
     "name": "stdout",
     "output_type": "stream",
     "text": [
      "X_train Shape: (668, 19)\n",
      "X_test Shape: (223, 19)\n",
      "\n"
     ]
    }
   ],
   "source": [
    "# apply pipe\n",
    "X_train = pipe.fit_transform(X_train)\n",
    "X_test = pipe.transform(X_test)\n",
    "print(f\"\"\"X_train Shape: {X_train.shape}\n",
    "X_test Shape: {X_test.shape}\n",
    "\"\"\")"
   ]
  },
  {
   "cell_type": "code",
   "execution_count": 7,
   "metadata": {},
   "outputs": [],
   "source": [
    "# cast y as np.array for modeling\n",
    "y_train = np.array(y_train)\n",
    "y_test = np.array(y_test)"
   ]
  },
  {
   "cell_type": "code",
   "execution_count": 49,
   "metadata": {},
   "outputs": [],
   "source": [
    "# NN\n",
    "model = Sequential()\n",
    "\n",
    "model.add(Dense(10, input_dim=19, activation='relu'))\n",
    "\n",
    "model.add(Dense(100, activation='relu'))\n",
    "model.add(Dense(380, activation='relu'))\n",
    "model.add(Dropout(0.1))\n",
    "\n",
    "model.add(Dense(100, activation='relu'))\n",
    "model.add(Dense(380, activation='relu'))\n",
    "model.add(Dropout(0.1))\n",
    "\n",
    "model.add(Dense(380, activation='relu'))\n",
    "model.add(Dense(19, activation='relu'))\n",
    "model.add(Dropout(0.1))\n",
    "\n",
    "model.add(Dense(1, activation='sigmoid'))\n",
    "\n",
    "model.compile(loss='binary_crossentropy',\n",
    "              optimizer='adam',\n",
    "              validation_split=.2,\n",
    "              batch_size = 16,\n",
    "              metrics=['accuracy'],\n",
    "              )\n",
    "\n",
    "history = model.fit(X_train, y_train, epochs=1000, verbose=0)"
   ]
  },
  {
   "cell_type": "code",
   "execution_count": 50,
   "metadata": {},
   "outputs": [
    {
     "name": "stdout",
     "output_type": "stream",
     "text": [
      "223/1 [==================================================================================================================================================================================================================================================================================================================================================================================================================================================================================================================================================================================================================================================================================================================================================================================================================================================================================================================================================================================================================================================================================================================================================================================================================================================================================================================================================================================================================================================================================================================================================================================================================================================================================================================================================================================================================================================================================================================================================================================================================================================================================================================================================================================================================================================================================================================================================================================================================================================================================================================================================================================================================================================================================================================================================================================================================================================================================================================================================================================================================================================================================================================================================================================================================================================================================================================================================================================================================================================================================================================================================================================================================================================================================================================================================================================================================================================================================================================================================================================================================================================================================================================================================================================================================================================================================================================================================================================================================================================================================================================================================================================================================================================================================================================================================================================================================================================================================================================================================================================================================================================================================================================================================================================================================================================================================================================================================================================================================================================================================================================================================================================================================================================================================================================================================================================================================================================================================================================================================================================================================================================================================================================================================================================================================================================================================================================================================================================================================================================================================================================================================================================================================================================================================================================================================================================================================================================================================================================================================================] - 0s 545us/sample - loss: 3.7435 - accuracy: 0.7937\n"
     ]
    },
    {
     "data": {
      "text/plain": [
       "[3.0428909635329995, 0.793722]"
      ]
     },
     "execution_count": 50,
     "metadata": {},
     "output_type": "execute_result"
    }
   ],
   "source": [
    "model.evaluate(X_test, y_test)"
   ]
  },
  {
   "cell_type": "code",
   "execution_count": 51,
   "metadata": {},
   "outputs": [
    {
     "data": {
      "text/plain": [
       "''"
      ]
     },
     "execution_count": 51,
     "metadata": {},
     "output_type": "execute_result"
    },
    {
     "data": {
      "image/png": "[encoded data removed]",
      "text/plain": [
       "<Figure size 432x288 with 1 Axes>"
      ]
     },
     "metadata": {
      "needs_background": "light"
     },
     "output_type": "display_data"
    }
   ],
   "source": [
    "# Plot training & validation accuracy values\n",
    "plt.plot(history.history['accuracy'])\n",
    "plt.plot(history.history['loss'])\n",
    "plt.title('Model Accuracy')\n",
    "plt.xlabel('Epochs')\n",
    "plt.legend(['train', 'loss'])\n",
    ";"
   ]
  },
  {
   "cell_type": "markdown",
   "metadata": {},
   "source": [
    "### Assignment questions\n",
    "\n",
    "After you've worked on some code, answer the following questions in this text block:\n",
    "\n",
    "1.  Describe in a paragraph of text what you did and why, as if you were writing an email to somebody interested but nontechnical.\n",
    "\n",
    "- I set out with the goal of trying to predict the survival rate on the titanic using a simple neural network. Creating a neural network helped me practice some of the tools I've learned at Lambda and cement my understanding. Plus, it was fun to do.\n",
    "\n",
    "2.  What was the most challenging part of what you did?\n",
    "\n",
    "- The most challenging part was creating the right neural network architecture to provide the best results.\n",
    "\n",
    "3.  What was the most interesting thing you learned?\n",
    "\n",
    "- I enjoyed becoming more familiar with dropout layers in Keras and becoming more familiar with TensorFlow.\n",
    "\n",
    "4.  What area would you like to explore with more time?\n",
    "\n",
    "- Given more time, I would like to do more feature engineering.\n",
    "\n"
   ]
  },
  {
   "cell_type": "code",
   "execution_count": null,
   "metadata": {},
   "outputs": [],
   "source": []
  }
 ],
 "metadata": {
  "kernelspec": {
   "display_name": "Python 3",
   "language": "python",
   "name": "python3"
  },
  "language_info": {
   "codemirror_mode": {
    "name": "ipython",
    "version": 3
   },
   "file_extension": ".py",
   "mimetype": "text/x-python",
   "name": "python",
   "nbconvert_exporter": "python",
   "pygments_lexer": "ipython3",
   "version": "3.7.3"
  }
 },
 "nbformat": 4,
 "nbformat_minor": 4
}
